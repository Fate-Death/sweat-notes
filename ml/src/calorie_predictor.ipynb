{
 "cells": [
  {
   "cell_type": "markdown",
   "id": "925c8930",
   "metadata": {},
   "source": [
    "# Calorie Predictor"
   ]
  },
  {
   "cell_type": "code",
   "execution_count": 1,
   "id": "c91da249",
   "metadata": {},
   "outputs": [],
   "source": [
    "import pandas as pd\n",
    "import numpy as np\n",
    "import matplotlib.pyplot as plt\n",
    "import seaborn as sns"
   ]
  },
  {
   "cell_type": "code",
   "execution_count": 3,
   "id": "d194e774",
   "metadata": {},
   "outputs": [],
   "source": [
    "df = pd.read_csv('../data/raw_data.csv')"
   ]
  },
  {
   "cell_type": "markdown",
   "id": "6ed51e90",
   "metadata": {},
   "source": [
    "## Preprocessing"
   ]
  },
  {
   "cell_type": "code",
   "execution_count": 8,
   "id": "3cbe305e",
   "metadata": {},
   "outputs": [],
   "source": [
    "from sklearn.compose import ColumnTransformer\n",
    "from sklearn.preprocessing import OneHotEncoder, OrdinalEncoder"
   ]
  },
  {
   "cell_type": "code",
   "execution_count": 6,
   "id": "c2a47685",
   "metadata": {},
   "outputs": [
    {
     "data": {
      "text/plain": [
       "Age                                 int64\n",
       "Gender                             object\n",
       "Weight (kg)                       float64\n",
       "Height (m)                        float64\n",
       "Max_BPM                             int64\n",
       "Avg_BPM                             int64\n",
       "Resting_BPM                         int64\n",
       "Session_Duration (hours)          float64\n",
       "Calories_Burned                   float64\n",
       "Workout_Type                       object\n",
       "Fat_Percentage                    float64\n",
       "Water_Intake (liters)             float64\n",
       "Workout_Frequency (days/week)       int64\n",
       "Experience_Level                    int64\n",
       "BMI                               float64\n",
       "BMR                               float64\n",
       "Weight_Duration                   float64\n",
       "BMI_Duration                      float64\n",
       "Workout_Intensity                   int64\n",
       "Fat_Category                     category\n",
       "dtype: object"
      ]
     },
     "execution_count": 6,
     "metadata": {},
     "output_type": "execute_result"
    }
   ],
   "source": [
    "df['BMR'] = np.where(\n",
    "    df['Gender'] == 'Male',\n",
    "    10 * df['Weight (kg)'] + 6.25 * (df['Height (m)'] * 100) - 5 * df['Age'] + 5,\n",
    "    10 * df['Weight (kg)'] + 6.25 * (df['Height (m)'] * 100) - 5 * df['Age'] - 161)\n",
    "df['Weight_Duration'] = df['Weight (kg)'] * df['Session_Duration (hours)']\n",
    "df['BMI_Duration'] = df['BMI'] * df['Session_Duration (hours)']\n",
    "df['Workout_Intensity'] = df['Experience_Level'] * df['Workout_Frequency (days/week)']\n",
    "df['Fat_Category'] = pd.cut(df['Fat_Percentage'], \n",
    "                           bins=[0, 15, 25, 35, 100], \n",
    "                           labels=['Low', 'Moderate', 'High', 'Very High'])\n",
    "\n",
    "df.dtypes"
   ]
  },
  {
   "cell_type": "code",
   "execution_count": 9,
   "id": "ad5291ad",
   "metadata": {},
   "outputs": [],
   "source": [
    "encoding_ct = ColumnTransformer(\n",
    "    transformers=[\n",
    "        ('onehot', OneHotEncoder(sparse_output=False), ['Gender', 'Workout_Type' ]),\n",
    "        ('ordinal', OrdinalEncoder(), ['Fat_Category'])\n",
    "    ], remainder='passthrough'\n",
    ")\n"
   ]
  },
  {
   "cell_type": "markdown",
   "id": "6834d0d2",
   "metadata": {},
   "source": [
    "## Modelling"
   ]
  },
  {
   "cell_type": "code",
   "execution_count": 26,
   "id": "13535b00",
   "metadata": {},
   "outputs": [],
   "source": [
    "from sklearn.model_selection import train_test_split\n",
    "from sklearn.ensemble import RandomForestRegressor\n",
    "from sklearn.pipeline import Pipeline\n",
    "from sklearn.metrics import r2_score, mean_squared_error, mean_absolute_error\n",
    "from sklearn.model_selection import GridSearchCV"
   ]
  },
  {
   "cell_type": "code",
   "execution_count": 14,
   "id": "9bc03eb8",
   "metadata": {},
   "outputs": [],
   "source": [
    "X= df.drop(columns=['Calories_Burned', 'Max_BPM', 'Avg_BPM', 'Resting_BPM'])\n",
    "y = df['Calories_Burned']\n",
    "X_train, X_test, y_train, y_test = train_test_split(\n",
    "    X, y, test_size=0.3, random_state=42\n",
    ")"
   ]
  },
  {
   "cell_type": "code",
   "execution_count": null,
   "id": "266c38c2",
   "metadata": {},
   "outputs": [],
   "source": [
    "pipeline = Pipeline(steps=[\n",
    "    ('preprocessor', encoding_ct),\n",
    "    ('model', RandomForestRegressor())\n",
    "])"
   ]
  },
  {
   "cell_type": "code",
   "execution_count": 28,
   "id": "bba05134",
   "metadata": {},
   "outputs": [
    {
     "name": "stdout",
     "output_type": "stream",
     "text": [
      "Best params: {'model__max_depth': None, 'model__max_features': 'sqrt', 'model__min_samples_leaf': 1, 'model__min_samples_split': 2, 'model__n_estimators': 100}\n",
      "Best CV R2: 0.8415003232471318\n"
     ]
    }
   ],
   "source": [
    "param_grid = {\n",
    "    'model__n_estimators': [100, 300, 500],\n",
    "    'model__max_depth': [None, 10, 20],\n",
    "    'model__min_samples_split': [2, 5, 10],\n",
    "    'model__min_samples_leaf': [1, 2, 4],\n",
    "    'model__max_features': ['sqrt', 'log2']\n",
    "}\n",
    "\n",
    "grid = GridSearchCV(pipeline, param_grid, cv=5, scoring='r2', n_jobs=-1)\n",
    "grid.fit(X_train, y_train)\n",
    "\n",
    "print(\"Best params:\", grid.best_params_)\n",
    "print(\"Best CV R2:\", grid.best_score_)# Cross Validation\n"
   ]
  },
  {
   "cell_type": "markdown",
   "id": "03bab0dd",
   "metadata": {},
   "source": [
    "## Evaluation"
   ]
  },
  {
   "cell_type": "code",
   "execution_count": 30,
   "id": "02f01241",
   "metadata": {},
   "outputs": [
    {
     "name": "stdout",
     "output_type": "stream",
     "text": [
      "R2 Score: 0.8519913568800711\n",
      "MSE: 11776.437136643837\n",
      "MAE: 87.63763698630137\n"
     ]
    }
   ],
   "source": [
    "y_pred = grid.predict(X_test)\n",
    "print(\"R2 Score:\", r2_score(y_test, y_pred))\n",
    "print(\"MSE:\", mean_squared_error(y_test, y_pred))\n",
    "print(\"MAE:\", mean_absolute_error(y_test, y_pred))"
   ]
  },
  {
   "cell_type": "markdown",
   "id": "00041745",
   "metadata": {},
   "source": [
    "## Deployment"
   ]
  },
  {
   "cell_type": "code",
   "execution_count": 31,
   "id": "3bbeb313",
   "metadata": {},
   "outputs": [
    {
     "data": {
      "text/plain": [
       "['../models/calorie_predictor_model.pkl']"
      ]
     },
     "execution_count": 31,
     "metadata": {},
     "output_type": "execute_result"
    }
   ],
   "source": [
    "import joblib\n",
    "best_model = grid.best_estimator_\n",
    "joblib.dump(best_model, '../models/calorie_predictor_model.pkl')"
   ]
  }
 ],
 "metadata": {
  "kernelspec": {
   "display_name": "venv",
   "language": "python",
   "name": "python3"
  },
  "language_info": {
   "codemirror_mode": {
    "name": "ipython",
    "version": 3
   },
   "file_extension": ".py",
   "mimetype": "text/x-python",
   "name": "python",
   "nbconvert_exporter": "python",
   "pygments_lexer": "ipython3",
   "version": "3.13.5"
  }
 },
 "nbformat": 4,
 "nbformat_minor": 5
}
